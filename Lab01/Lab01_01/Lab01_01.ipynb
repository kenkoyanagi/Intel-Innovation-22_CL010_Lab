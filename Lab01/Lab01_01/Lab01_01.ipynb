{
 "cells": [
  {
   "cell_type": "markdown",
   "id": "85747af8",
   "metadata": {},
   "source": [
    "## Lab01_01 : Exporting a pre-trained ONNX model\n",
    "\n",
    "### Prerequisities: \n",
    "- PyTorch (torch, torchvision)\n",
    "\n",
    "### Lab Objectives: \n",
    "- Learn to export a pre-trained network as an ONNX model using the torch.onnx library"
   ]
  },
  {
   "cell_type": "code",
   "execution_count": 10,
   "id": "76c1f613",
   "metadata": {},
   "outputs": [],
   "source": [
    "# pip install torch torchvision\n",
    "import torch\n",
    "import torchvision.models as models"
   ]
  },
  {
   "cell_type": "markdown",
   "id": "0f5e1267",
   "metadata": {},
   "source": [
    "Load a pre-trained ResNet50 model from PyTorch"
   ]
  },
  {
   "cell_type": "code",
   "execution_count": null,
   "id": "f12aa1ac",
   "metadata": {},
   "outputs": [],
   "source": [
    "model = models.resnet50(pretrained=True)\n",
    "\n",
    "# Check if the model is in inference mode\n",
    "model.eval()"
   ]
  },
  {
   "cell_type": "markdown",
   "id": "dc027e5c",
   "metadata": {},
   "source": [
    "Next, we create a dummy input variable so we can specify the input shape for the ONNX model.\n",
    "\n",
    "Then specify the input and output node names."
   ]
  },
  {
   "cell_type": "code",
   "execution_count": 12,
   "id": "02d75186",
   "metadata": {},
   "outputs": [],
   "source": [
    "# Creasting an input shape of 224x244x3 to act as a placeholder\n",
    "dummy_input = torch.randn(1, 3, 224, 224)\n",
    "\n",
    "# Specify the names of the input and output nodes.\n",
    "input_names = [\"input\"]\n",
    "output_names = [\"output\"]"
   ]
  },
  {
   "cell_type": "markdown",
   "id": "3f99665e",
   "metadata": {},
   "source": [
    "Use torch.onnx.export function to export the pre-trained model as ONNX. \n",
    "\n",
    "The model will be saved in the **models** directory at the root.\n",
    "\n",
    ">Use [torch.onnx.export()](https://pytorch.org/docs/stable/onnx.html#example-alexnet-from-pytorch-to-onnx) to export the model to \"../../models/resnet50.onnx\" "
   ]
  },
  {
   "cell_type": "code",
   "execution_count": 13,
   "id": "7e7eb7ed",
   "metadata": {},
   "outputs": [],
   "source": [
    "\n",
    "# Export the model\n",
    "torch.onnx.export(\n",
    "     '''\n",
    "          TODO: Complete the export arguments to produce the ONNX model to ../../models/resnet50.onnx \n",
    "          The location of the output will be important for the upcoming lab notebooks.  \n",
    "     '''\n",
    "             )"
   ]
  }
 ],
 "metadata": {
  "kernelspec": {
   "display_name": "Python 3 (ipykernel)",
   "language": "python",
   "name": "python3"
  },
  "language_info": {
   "codemirror_mode": {
    "name": "ipython",
    "version": 3
   },
   "file_extension": ".py",
   "mimetype": "text/x-python",
   "name": "python",
   "nbconvert_exporter": "python",
   "pygments_lexer": "ipython3",
   "version": "3.9.12"
  }
 },
 "nbformat": 4,
 "nbformat_minor": 5
}
