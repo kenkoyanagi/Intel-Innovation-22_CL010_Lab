{
 "cells": [
  {
   "cell_type": "markdown",
   "id": "f625ac7f",
   "metadata": {},
   "source": [
    "## Lab01_03: Creating an optimized model for GPUs\n",
    "\n",
    "### Prerequisites:\n",
    "- onnx\n",
    "- onnxmltools\n",
    "\n",
    "### Objective: \n",
    "- Learn how to convert a Float32 model to Float16 to improve performance on GPUs"
   ]
  },
  {
   "cell_type": "code",
   "execution_count": 1,
   "id": "ce1d80b7",
   "metadata": {},
   "outputs": [],
   "source": [
    "import onnxmltools\n",
    "import onnx \n",
    "import getopt, sys\n",
    "from fp32tofp16_converter import convert_float_to_float16"
   ]
  },
  {
   "cell_type": "markdown",
   "id": "5c44cdd0",
   "metadata": {},
   "source": [
    "We'll be using a pre-trained Float32 Style Transfer ONNX [model](https://github.com/onnx/models/blob/main/vision/style_transfer/fast_neural_style/model/mosaic-8.onnx).\n",
    "\n",
    "You'll find the model pre-downloaded for you in the models/ folder."
   ]
  },
  {
   "cell_type": "code",
   "execution_count": 2,
   "id": "898df804",
   "metadata": {},
   "outputs": [
    {
     "name": "stdout",
     "output_type": "stream",
     "text": [
      "Model loaded!\n"
     ]
    }
   ],
   "source": [
    "onnx_model = onnxmltools.utils.load_model(\"../../models/Lab01_02_StyleTransfer_base.onnx\")   \n",
    "print(\"Model loaded!\")"
   ]
  },
  {
   "cell_type": "markdown",
   "id": "38f28551",
   "metadata": {},
   "source": [
    "Now that we have loaded the Float32 model, we'll use the fp32tofp16 converter tool to generate a FP16 model\n",
    "\n",
    ">Convert the Float32 to Float16 (half-precision) using the converter tool"
   ]
  },
  {
   "cell_type": "code",
   "execution_count": 3,
   "id": "ae6cc2e2",
   "metadata": {},
   "outputs": [
    {
     "name": "stdout",
     "output_type": "stream",
     "text": [
      "The FP16 converted model saved!\n"
     ]
    }
   ],
   "source": [
    "block_op_initializer = []\n",
    "block_initializer = []\n",
    "fp16_model = convert_float_to_float16(onnx_model, block_op_initializer, block_initializer)\n",
    "onnx.checker.check_model(fp16_model)\n",
    "# Convert the Float32 model to Float16 using the API below\n",
    "\n",
    "# Use the ONNX checker API to verify if the newly converted model is valid\n",
    "\n",
    "\n",
    "# Save the model\n",
    "onnxmltools.utils.save_model(fp16_model, \"../../models/style-transfer-fp16.onnx\")\n",
    "print(\"The FP16 converted model saved!\")"
   ]
  },
  {
   "cell_type": "markdown",
   "id": "4c9d7e34",
   "metadata": {},
   "source": [
    "We have now generated a Float16 model which will run more efficiently on the GPU which we'll use later in Lab03."
   ]
  }
 ],
 "metadata": {
  "kernelspec": {
   "display_name": "Python 3 (ipykernel)",
   "language": "python",
   "name": "python3"
  },
  "language_info": {
   "codemirror_mode": {
    "name": "ipython",
    "version": 3
   },
   "file_extension": ".py",
   "mimetype": "text/x-python",
   "name": "python",
   "nbconvert_exporter": "python",
   "pygments_lexer": "ipython3",
   "version": "3.9.0"
  }
 },
 "nbformat": 4,
 "nbformat_minor": 5
}
